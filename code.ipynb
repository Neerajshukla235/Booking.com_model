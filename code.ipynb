{
  "nbformat": 4,
  "nbformat_minor": 0,
  "metadata": {
    "colab": {
      "provenance": [],
      "include_colab_link": true
    },
    "kernelspec": {
      "name": "python3",
      "display_name": "Python 3"
    },
    "language_info": {
      "name": "python"
    }
  },
  "cells": [
    {
      "cell_type": "markdown",
      "metadata": {
        "id": "view-in-github",
        "colab_type": "text"
      },
      "source": [
        "<a href=\"https://colab.research.google.com/github/Neerajshukla235/Booking.com_model/blob/main/code.ipynb\" target=\"_parent\"><img src=\"https://colab.research.google.com/assets/colab-badge.svg\" alt=\"Open In Colab\"/></a>"
      ]
    },
    {
      "cell_type": "code",
      "source": [
        "import numpy as np\n",
        "import pandas as pd\n",
        "import seaborn as sns\n",
        "import matplotlib.pyplot as plt\n",
        "import warnings\n",
        "warnings.filterwarnings(\"ignore\")"
      ],
      "metadata": {
        "id": "-p3srtbT-NOi"
      },
      "execution_count": 1,
      "outputs": []
    },
    {
      "cell_type": "code",
      "source": [
        "df= pd.read_csv('/content/Data_Science_Internship - Dump.csv')"
      ],
      "metadata": {
        "id": "6DaZGoG3-NUA"
      },
      "execution_count": 2,
      "outputs": []
    },
    {
      "cell_type": "code",
      "source": [
        "df.head()"
      ],
      "metadata": {
        "id": "HVj_j36e-Nah",
        "colab": {
          "base_uri": "https://localhost:8080/",
          "height": 387
        },
        "outputId": "e3fcdaf0-30c5-4161-e98e-b0bb08042f8a"
      },
      "execution_count": 3,
      "outputs": [
        {
          "output_type": "execute_result",
          "data": {
            "text/plain": [
              "   Unnamed: 0                                           Agent_id status  \\\n",
              "0           0  1deba9e96f404694373de9749ddd1ca8aa7bb823145a6f...   LOST   \n",
              "1           1  299ae77a4ef350ae0dd37d6bba1c002d03444fb1edb236...   LOST   \n",
              "2           2  c213697430c006013012dd2aca82dd9732aa0a1a6bca13...   LOST   \n",
              "3           3  eac9815a500f908736d303e23aa227f0957177b0e6756b...   LOST   \n",
              "4           4  1deba9e96f404694373de9749ddd1ca8aa7bb823145a6f...   LOST   \n",
              "\n",
              "      lost_reason                budget                                lease  \\\n",
              "0  Not responding                   NaN                                  NaN   \n",
              "1      Low budget                   NaN                                  NaN   \n",
              "2  Not responding  £121 - £180 Per Week  Full Year Course Stay 40 - 44 weeks   \n",
              "3      Low budget                   0-0                                    0   \n",
              "4       Junk lead                   NaN                                  NaN   \n",
              "\n",
              "     movein                                             source  \\\n",
              "0       NaN  9b2d5b4678781e53038e91ea5324530a03f27dc1d0e5f6...   \n",
              "1       NaN  9b2d5b4678781e53038e91ea5324530a03f27dc1d0e5f6...   \n",
              "2  31/08/22  7aae3e886e89fc1187a5c47d6cea1c22998ee610ade1f2...   \n",
              "3       NaN  ba2d0a29556ac20f86f45e4543c0825428cba33fd7a9ea...   \n",
              "4       NaN  9b2d5b4678781e53038e91ea5324530a03f27dc1d0e5f6...   \n",
              "\n",
              "                                         source_city  \\\n",
              "0  9b2d5b4678781e53038e91ea5324530a03f27dc1d0e5f6...   \n",
              "1  9b2d5b4678781e53038e91ea5324530a03f27dc1d0e5f6...   \n",
              "2  9b8cc3c63cdf447e463c11544924bf027945cbd29675f7...   \n",
              "3  a5f0d2d08eb0592087e3a3a2f9c1ba2c67cc30f2efd2bd...   \n",
              "4  9b2d5b4678781e53038e91ea5324530a03f27dc1d0e5f6...   \n",
              "\n",
              "                                      source_country  \\\n",
              "0  9b2d5b4678781e53038e91ea5324530a03f27dc1d0e5f6...   \n",
              "1  9b2d5b4678781e53038e91ea5324530a03f27dc1d0e5f6...   \n",
              "2  e09e10e67812e9d236ad900e5d46b4308fc62f5d69446a...   \n",
              "3  e09e10e67812e9d236ad900e5d46b4308fc62f5d69446a...   \n",
              "4  9b2d5b4678781e53038e91ea5324530a03f27dc1d0e5f6...   \n",
              "\n",
              "                                          utm_source  \\\n",
              "0  3d59f7548e1af2151b64135003ce63c0a484c26b9b8b16...   \n",
              "1  3d59f7548e1af2151b64135003ce63c0a484c26b9b8b16...   \n",
              "2  bbdefa2950f49882f295b1285d4fa9dec45fc4144bfb07...   \n",
              "3  bbdefa2950f49882f295b1285d4fa9dec45fc4144bfb07...   \n",
              "4  3d59f7548e1af2151b64135003ce63c0a484c26b9b8b16...   \n",
              "\n",
              "                                          utm_medium  \\\n",
              "0  268ad70eb5bc4737a2ae28162cbca30118cc94520e49ef...   \n",
              "1  268ad70eb5bc4737a2ae28162cbca30118cc94520e49ef...   \n",
              "2  09076eb7665d1fb9389c7c4517fee0b00e43092eb34821...   \n",
              "3  09076eb7665d1fb9389c7c4517fee0b00e43092eb34821...   \n",
              "4  268ad70eb5bc4737a2ae28162cbca30118cc94520e49ef...   \n",
              "\n",
              "                                            des_city  \\\n",
              "0  ecc0e7dc084f141b29479058967d0bc07dee25d9690a98...   \n",
              "1  5372372f3bf5896820cb2819300c3e681820d82c6efc54...   \n",
              "2  11ab03a1a8c367191355c152f39fe28cae5e426fce49ef...   \n",
              "3  19372fa44c57a01c37a5a8418779ca3d99b0b59731fb35...   \n",
              "4  9b2d5b4678781e53038e91ea5324530a03f27dc1d0e5f6...   \n",
              "\n",
              "                                         des_country room_type  \\\n",
              "0  8d23a6e37e0a6431a8f1b43a91026dcff51170a89a6512...       NaN   \n",
              "1  8d23a6e37e0a6431a8f1b43a91026dcff51170a89a6512...       NaN   \n",
              "2  8d23a6e37e0a6431a8f1b43a91026dcff51170a89a6512...   Ensuite   \n",
              "3  8d23a6e37e0a6431a8f1b43a91026dcff51170a89a6512...       NaN   \n",
              "4  9b2d5b4678781e53038e91ea5324530a03f27dc1d0e5f6...       NaN   \n",
              "\n",
              "                                             lead_id  \n",
              "0  cd5dc0d9393f3980d11d4ba6f88f8110c2b7a7f7796307...  \n",
              "1  b94693673a5f7178d1b114e4004ad52377d3244dd24a3d...  \n",
              "2  96ea4e2bf04496c044745938c0299c264c3f4ba079e572...  \n",
              "3  1d2b34d8add02a182a4129023766ca4585a8ddced0e5b3...  \n",
              "4  fc10fffd29cfbe93c55158fb47752a7501c211d253468c...  "
            ],
            "text/html": [
              "\n",
              "  <div id=\"df-121b2c4b-341d-4a57-94b1-4c03086c6405\">\n",
              "    <div class=\"colab-df-container\">\n",
              "      <div>\n",
              "<style scoped>\n",
              "    .dataframe tbody tr th:only-of-type {\n",
              "        vertical-align: middle;\n",
              "    }\n",
              "\n",
              "    .dataframe tbody tr th {\n",
              "        vertical-align: top;\n",
              "    }\n",
              "\n",
              "    .dataframe thead th {\n",
              "        text-align: right;\n",
              "    }\n",
              "</style>\n",
              "<table border=\"1\" class=\"dataframe\">\n",
              "  <thead>\n",
              "    <tr style=\"text-align: right;\">\n",
              "      <th></th>\n",
              "      <th>Unnamed: 0</th>\n",
              "      <th>Agent_id</th>\n",
              "      <th>status</th>\n",
              "      <th>lost_reason</th>\n",
              "      <th>budget</th>\n",
              "      <th>lease</th>\n",
              "      <th>movein</th>\n",
              "      <th>source</th>\n",
              "      <th>source_city</th>\n",
              "      <th>source_country</th>\n",
              "      <th>utm_source</th>\n",
              "      <th>utm_medium</th>\n",
              "      <th>des_city</th>\n",
              "      <th>des_country</th>\n",
              "      <th>room_type</th>\n",
              "      <th>lead_id</th>\n",
              "    </tr>\n",
              "  </thead>\n",
              "  <tbody>\n",
              "    <tr>\n",
              "      <th>0</th>\n",
              "      <td>0</td>\n",
              "      <td>1deba9e96f404694373de9749ddd1ca8aa7bb823145a6f...</td>\n",
              "      <td>LOST</td>\n",
              "      <td>Not responding</td>\n",
              "      <td>NaN</td>\n",
              "      <td>NaN</td>\n",
              "      <td>NaN</td>\n",
              "      <td>9b2d5b4678781e53038e91ea5324530a03f27dc1d0e5f6...</td>\n",
              "      <td>9b2d5b4678781e53038e91ea5324530a03f27dc1d0e5f6...</td>\n",
              "      <td>9b2d5b4678781e53038e91ea5324530a03f27dc1d0e5f6...</td>\n",
              "      <td>3d59f7548e1af2151b64135003ce63c0a484c26b9b8b16...</td>\n",
              "      <td>268ad70eb5bc4737a2ae28162cbca30118cc94520e49ef...</td>\n",
              "      <td>ecc0e7dc084f141b29479058967d0bc07dee25d9690a98...</td>\n",
              "      <td>8d23a6e37e0a6431a8f1b43a91026dcff51170a89a6512...</td>\n",
              "      <td>NaN</td>\n",
              "      <td>cd5dc0d9393f3980d11d4ba6f88f8110c2b7a7f7796307...</td>\n",
              "    </tr>\n",
              "    <tr>\n",
              "      <th>1</th>\n",
              "      <td>1</td>\n",
              "      <td>299ae77a4ef350ae0dd37d6bba1c002d03444fb1edb236...</td>\n",
              "      <td>LOST</td>\n",
              "      <td>Low budget</td>\n",
              "      <td>NaN</td>\n",
              "      <td>NaN</td>\n",
              "      <td>NaN</td>\n",
              "      <td>9b2d5b4678781e53038e91ea5324530a03f27dc1d0e5f6...</td>\n",
              "      <td>9b2d5b4678781e53038e91ea5324530a03f27dc1d0e5f6...</td>\n",
              "      <td>9b2d5b4678781e53038e91ea5324530a03f27dc1d0e5f6...</td>\n",
              "      <td>3d59f7548e1af2151b64135003ce63c0a484c26b9b8b16...</td>\n",
              "      <td>268ad70eb5bc4737a2ae28162cbca30118cc94520e49ef...</td>\n",
              "      <td>5372372f3bf5896820cb2819300c3e681820d82c6efc54...</td>\n",
              "      <td>8d23a6e37e0a6431a8f1b43a91026dcff51170a89a6512...</td>\n",
              "      <td>NaN</td>\n",
              "      <td>b94693673a5f7178d1b114e4004ad52377d3244dd24a3d...</td>\n",
              "    </tr>\n",
              "    <tr>\n",
              "      <th>2</th>\n",
              "      <td>2</td>\n",
              "      <td>c213697430c006013012dd2aca82dd9732aa0a1a6bca13...</td>\n",
              "      <td>LOST</td>\n",
              "      <td>Not responding</td>\n",
              "      <td>£121 - £180 Per Week</td>\n",
              "      <td>Full Year Course Stay 40 - 44 weeks</td>\n",
              "      <td>31/08/22</td>\n",
              "      <td>7aae3e886e89fc1187a5c47d6cea1c22998ee610ade1f2...</td>\n",
              "      <td>9b8cc3c63cdf447e463c11544924bf027945cbd29675f7...</td>\n",
              "      <td>e09e10e67812e9d236ad900e5d46b4308fc62f5d69446a...</td>\n",
              "      <td>bbdefa2950f49882f295b1285d4fa9dec45fc4144bfb07...</td>\n",
              "      <td>09076eb7665d1fb9389c7c4517fee0b00e43092eb34821...</td>\n",
              "      <td>11ab03a1a8c367191355c152f39fe28cae5e426fce49ef...</td>\n",
              "      <td>8d23a6e37e0a6431a8f1b43a91026dcff51170a89a6512...</td>\n",
              "      <td>Ensuite</td>\n",
              "      <td>96ea4e2bf04496c044745938c0299c264c3f4ba079e572...</td>\n",
              "    </tr>\n",
              "    <tr>\n",
              "      <th>3</th>\n",
              "      <td>3</td>\n",
              "      <td>eac9815a500f908736d303e23aa227f0957177b0e6756b...</td>\n",
              "      <td>LOST</td>\n",
              "      <td>Low budget</td>\n",
              "      <td>0-0</td>\n",
              "      <td>0</td>\n",
              "      <td>NaN</td>\n",
              "      <td>ba2d0a29556ac20f86f45e4543c0825428cba33fd7a9ea...</td>\n",
              "      <td>a5f0d2d08eb0592087e3a3a2f9c1ba2c67cc30f2efd2bd...</td>\n",
              "      <td>e09e10e67812e9d236ad900e5d46b4308fc62f5d69446a...</td>\n",
              "      <td>bbdefa2950f49882f295b1285d4fa9dec45fc4144bfb07...</td>\n",
              "      <td>09076eb7665d1fb9389c7c4517fee0b00e43092eb34821...</td>\n",
              "      <td>19372fa44c57a01c37a5a8418779ca3d99b0b59731fb35...</td>\n",
              "      <td>8d23a6e37e0a6431a8f1b43a91026dcff51170a89a6512...</td>\n",
              "      <td>NaN</td>\n",
              "      <td>1d2b34d8add02a182a4129023766ca4585a8ddced0e5b3...</td>\n",
              "    </tr>\n",
              "    <tr>\n",
              "      <th>4</th>\n",
              "      <td>4</td>\n",
              "      <td>1deba9e96f404694373de9749ddd1ca8aa7bb823145a6f...</td>\n",
              "      <td>LOST</td>\n",
              "      <td>Junk lead</td>\n",
              "      <td>NaN</td>\n",
              "      <td>NaN</td>\n",
              "      <td>NaN</td>\n",
              "      <td>9b2d5b4678781e53038e91ea5324530a03f27dc1d0e5f6...</td>\n",
              "      <td>9b2d5b4678781e53038e91ea5324530a03f27dc1d0e5f6...</td>\n",
              "      <td>9b2d5b4678781e53038e91ea5324530a03f27dc1d0e5f6...</td>\n",
              "      <td>3d59f7548e1af2151b64135003ce63c0a484c26b9b8b16...</td>\n",
              "      <td>268ad70eb5bc4737a2ae28162cbca30118cc94520e49ef...</td>\n",
              "      <td>9b2d5b4678781e53038e91ea5324530a03f27dc1d0e5f6...</td>\n",
              "      <td>9b2d5b4678781e53038e91ea5324530a03f27dc1d0e5f6...</td>\n",
              "      <td>NaN</td>\n",
              "      <td>fc10fffd29cfbe93c55158fb47752a7501c211d253468c...</td>\n",
              "    </tr>\n",
              "  </tbody>\n",
              "</table>\n",
              "</div>\n",
              "      <button class=\"colab-df-convert\" onclick=\"convertToInteractive('df-121b2c4b-341d-4a57-94b1-4c03086c6405')\"\n",
              "              title=\"Convert this dataframe to an interactive table.\"\n",
              "              style=\"display:none;\">\n",
              "        \n",
              "  <svg xmlns=\"http://www.w3.org/2000/svg\" height=\"24px\"viewBox=\"0 0 24 24\"\n",
              "       width=\"24px\">\n",
              "    <path d=\"M0 0h24v24H0V0z\" fill=\"none\"/>\n",
              "    <path d=\"M18.56 5.44l.94 2.06.94-2.06 2.06-.94-2.06-.94-.94-2.06-.94 2.06-2.06.94zm-11 1L8.5 8.5l.94-2.06 2.06-.94-2.06-.94L8.5 2.5l-.94 2.06-2.06.94zm10 10l.94 2.06.94-2.06 2.06-.94-2.06-.94-.94-2.06-.94 2.06-2.06.94z\"/><path d=\"M17.41 7.96l-1.37-1.37c-.4-.4-.92-.59-1.43-.59-.52 0-1.04.2-1.43.59L10.3 9.45l-7.72 7.72c-.78.78-.78 2.05 0 2.83L4 21.41c.39.39.9.59 1.41.59.51 0 1.02-.2 1.41-.59l7.78-7.78 2.81-2.81c.8-.78.8-2.07 0-2.86zM5.41 20L4 18.59l7.72-7.72 1.47 1.35L5.41 20z\"/>\n",
              "  </svg>\n",
              "      </button>\n",
              "      \n",
              "  <style>\n",
              "    .colab-df-container {\n",
              "      display:flex;\n",
              "      flex-wrap:wrap;\n",
              "      gap: 12px;\n",
              "    }\n",
              "\n",
              "    .colab-df-convert {\n",
              "      background-color: #E8F0FE;\n",
              "      border: none;\n",
              "      border-radius: 50%;\n",
              "      cursor: pointer;\n",
              "      display: none;\n",
              "      fill: #1967D2;\n",
              "      height: 32px;\n",
              "      padding: 0 0 0 0;\n",
              "      width: 32px;\n",
              "    }\n",
              "\n",
              "    .colab-df-convert:hover {\n",
              "      background-color: #E2EBFA;\n",
              "      box-shadow: 0px 1px 2px rgba(60, 64, 67, 0.3), 0px 1px 3px 1px rgba(60, 64, 67, 0.15);\n",
              "      fill: #174EA6;\n",
              "    }\n",
              "\n",
              "    [theme=dark] .colab-df-convert {\n",
              "      background-color: #3B4455;\n",
              "      fill: #D2E3FC;\n",
              "    }\n",
              "\n",
              "    [theme=dark] .colab-df-convert:hover {\n",
              "      background-color: #434B5C;\n",
              "      box-shadow: 0px 1px 3px 1px rgba(0, 0, 0, 0.15);\n",
              "      filter: drop-shadow(0px 1px 2px rgba(0, 0, 0, 0.3));\n",
              "      fill: #FFFFFF;\n",
              "    }\n",
              "  </style>\n",
              "\n",
              "      <script>\n",
              "        const buttonEl =\n",
              "          document.querySelector('#df-121b2c4b-341d-4a57-94b1-4c03086c6405 button.colab-df-convert');\n",
              "        buttonEl.style.display =\n",
              "          google.colab.kernel.accessAllowed ? 'block' : 'none';\n",
              "\n",
              "        async function convertToInteractive(key) {\n",
              "          const element = document.querySelector('#df-121b2c4b-341d-4a57-94b1-4c03086c6405');\n",
              "          const dataTable =\n",
              "            await google.colab.kernel.invokeFunction('convertToInteractive',\n",
              "                                                     [key], {});\n",
              "          if (!dataTable) return;\n",
              "\n",
              "          const docLinkHtml = 'Like what you see? Visit the ' +\n",
              "            '<a target=\"_blank\" href=https://colab.research.google.com/notebooks/data_table.ipynb>data table notebook</a>'\n",
              "            + ' to learn more about interactive tables.';\n",
              "          element.innerHTML = '';\n",
              "          dataTable['output_type'] = 'display_data';\n",
              "          await google.colab.output.renderOutput(dataTable, element);\n",
              "          const docLink = document.createElement('div');\n",
              "          docLink.innerHTML = docLinkHtml;\n",
              "          element.appendChild(docLink);\n",
              "        }\n",
              "      </script>\n",
              "    </div>\n",
              "  </div>\n",
              "  "
            ]
          },
          "metadata": {},
          "execution_count": 3
        }
      ]
    },
    {
      "cell_type": "code",
      "source": [
        "df.info()"
      ],
      "metadata": {
        "colab": {
          "base_uri": "https://localhost:8080/"
        },
        "id": "nMmT15txQrnP",
        "outputId": "e446966d-8f9c-40d9-ac76-d63b0b5cd074"
      },
      "execution_count": 4,
      "outputs": [
        {
          "output_type": "stream",
          "name": "stdout",
          "text": [
            "<class 'pandas.core.frame.DataFrame'>\n",
            "RangeIndex: 46608 entries, 0 to 46607\n",
            "Data columns (total 16 columns):\n",
            " #   Column          Non-Null Count  Dtype \n",
            "---  ------          --------------  ----- \n",
            " 0   Unnamed: 0      46608 non-null  int64 \n",
            " 1   Agent_id        46608 non-null  object\n",
            " 2   status          46608 non-null  object\n",
            " 3   lost_reason     43244 non-null  object\n",
            " 4   budget          42908 non-null  object\n",
            " 5   lease           44267 non-null  object\n",
            " 6   movein          32970 non-null  object\n",
            " 7   source          46608 non-null  object\n",
            " 8   source_city     46608 non-null  object\n",
            " 9   source_country  46608 non-null  object\n",
            " 10  utm_source      46608 non-null  object\n",
            " 11  utm_medium      46608 non-null  object\n",
            " 12  des_city        46608 non-null  object\n",
            " 13  des_country     46608 non-null  object\n",
            " 14  room_type       23061 non-null  object\n",
            " 15  lead_id         46608 non-null  object\n",
            "dtypes: int64(1), object(15)\n",
            "memory usage: 5.7+ MB\n"
          ]
        }
      ]
    },
    {
      "cell_type": "code",
      "source": [
        "df.shape"
      ],
      "metadata": {
        "id": "AWDauoN4-Ngh",
        "colab": {
          "base_uri": "https://localhost:8080/"
        },
        "outputId": "19c23207-23b7-4216-d2d9-bbcb5fff7af8"
      },
      "execution_count": 5,
      "outputs": [
        {
          "output_type": "execute_result",
          "data": {
            "text/plain": [
              "(46608, 16)"
            ]
          },
          "metadata": {},
          "execution_count": 5
        }
      ]
    },
    {
      "cell_type": "code",
      "source": [
        "df.columns"
      ],
      "metadata": {
        "id": "6D7PohAk-Nmn",
        "colab": {
          "base_uri": "https://localhost:8080/"
        },
        "outputId": "12e243d0-f92a-4a26-caf7-901bc6f1ecf6"
      },
      "execution_count": 6,
      "outputs": [
        {
          "output_type": "execute_result",
          "data": {
            "text/plain": [
              "Index(['Unnamed: 0', 'Agent_id', 'status', 'lost_reason', 'budget', 'lease',\n",
              "       'movein', 'source', 'source_city', 'source_country', 'utm_source',\n",
              "       'utm_medium', 'des_city', 'des_country', 'room_type', 'lead_id'],\n",
              "      dtype='object')"
            ]
          },
          "metadata": {},
          "execution_count": 6
        }
      ]
    },
    {
      "cell_type": "code",
      "source": [
        "df_selected=df[['status', 'lost_reason','budget','lease','room_type']]"
      ],
      "metadata": {
        "id": "RbrylHXQ-Nj3"
      },
      "execution_count": 7,
      "outputs": []
    },
    {
      "cell_type": "code",
      "source": [
        "df_selected.head()"
      ],
      "metadata": {
        "id": "LGpQR1Sn-NxM",
        "colab": {
          "base_uri": "https://localhost:8080/",
          "height": 204
        },
        "outputId": "fae918c0-14f2-4d54-a7aa-996f49309703"
      },
      "execution_count": 8,
      "outputs": [
        {
          "output_type": "execute_result",
          "data": {
            "text/plain": [
              "  status     lost_reason                budget  \\\n",
              "0   LOST  Not responding                   NaN   \n",
              "1   LOST      Low budget                   NaN   \n",
              "2   LOST  Not responding  £121 - £180 Per Week   \n",
              "3   LOST      Low budget                   0-0   \n",
              "4   LOST       Junk lead                   NaN   \n",
              "\n",
              "                                 lease room_type  \n",
              "0                                  NaN       NaN  \n",
              "1                                  NaN       NaN  \n",
              "2  Full Year Course Stay 40 - 44 weeks   Ensuite  \n",
              "3                                    0       NaN  \n",
              "4                                  NaN       NaN  "
            ],
            "text/html": [
              "\n",
              "  <div id=\"df-537164c2-d649-480b-96d0-68628b958090\">\n",
              "    <div class=\"colab-df-container\">\n",
              "      <div>\n",
              "<style scoped>\n",
              "    .dataframe tbody tr th:only-of-type {\n",
              "        vertical-align: middle;\n",
              "    }\n",
              "\n",
              "    .dataframe tbody tr th {\n",
              "        vertical-align: top;\n",
              "    }\n",
              "\n",
              "    .dataframe thead th {\n",
              "        text-align: right;\n",
              "    }\n",
              "</style>\n",
              "<table border=\"1\" class=\"dataframe\">\n",
              "  <thead>\n",
              "    <tr style=\"text-align: right;\">\n",
              "      <th></th>\n",
              "      <th>status</th>\n",
              "      <th>lost_reason</th>\n",
              "      <th>budget</th>\n",
              "      <th>lease</th>\n",
              "      <th>room_type</th>\n",
              "    </tr>\n",
              "  </thead>\n",
              "  <tbody>\n",
              "    <tr>\n",
              "      <th>0</th>\n",
              "      <td>LOST</td>\n",
              "      <td>Not responding</td>\n",
              "      <td>NaN</td>\n",
              "      <td>NaN</td>\n",
              "      <td>NaN</td>\n",
              "    </tr>\n",
              "    <tr>\n",
              "      <th>1</th>\n",
              "      <td>LOST</td>\n",
              "      <td>Low budget</td>\n",
              "      <td>NaN</td>\n",
              "      <td>NaN</td>\n",
              "      <td>NaN</td>\n",
              "    </tr>\n",
              "    <tr>\n",
              "      <th>2</th>\n",
              "      <td>LOST</td>\n",
              "      <td>Not responding</td>\n",
              "      <td>£121 - £180 Per Week</td>\n",
              "      <td>Full Year Course Stay 40 - 44 weeks</td>\n",
              "      <td>Ensuite</td>\n",
              "    </tr>\n",
              "    <tr>\n",
              "      <th>3</th>\n",
              "      <td>LOST</td>\n",
              "      <td>Low budget</td>\n",
              "      <td>0-0</td>\n",
              "      <td>0</td>\n",
              "      <td>NaN</td>\n",
              "    </tr>\n",
              "    <tr>\n",
              "      <th>4</th>\n",
              "      <td>LOST</td>\n",
              "      <td>Junk lead</td>\n",
              "      <td>NaN</td>\n",
              "      <td>NaN</td>\n",
              "      <td>NaN</td>\n",
              "    </tr>\n",
              "  </tbody>\n",
              "</table>\n",
              "</div>\n",
              "      <button class=\"colab-df-convert\" onclick=\"convertToInteractive('df-537164c2-d649-480b-96d0-68628b958090')\"\n",
              "              title=\"Convert this dataframe to an interactive table.\"\n",
              "              style=\"display:none;\">\n",
              "        \n",
              "  <svg xmlns=\"http://www.w3.org/2000/svg\" height=\"24px\"viewBox=\"0 0 24 24\"\n",
              "       width=\"24px\">\n",
              "    <path d=\"M0 0h24v24H0V0z\" fill=\"none\"/>\n",
              "    <path d=\"M18.56 5.44l.94 2.06.94-2.06 2.06-.94-2.06-.94-.94-2.06-.94 2.06-2.06.94zm-11 1L8.5 8.5l.94-2.06 2.06-.94-2.06-.94L8.5 2.5l-.94 2.06-2.06.94zm10 10l.94 2.06.94-2.06 2.06-.94-2.06-.94-.94-2.06-.94 2.06-2.06.94z\"/><path d=\"M17.41 7.96l-1.37-1.37c-.4-.4-.92-.59-1.43-.59-.52 0-1.04.2-1.43.59L10.3 9.45l-7.72 7.72c-.78.78-.78 2.05 0 2.83L4 21.41c.39.39.9.59 1.41.59.51 0 1.02-.2 1.41-.59l7.78-7.78 2.81-2.81c.8-.78.8-2.07 0-2.86zM5.41 20L4 18.59l7.72-7.72 1.47 1.35L5.41 20z\"/>\n",
              "  </svg>\n",
              "      </button>\n",
              "      \n",
              "  <style>\n",
              "    .colab-df-container {\n",
              "      display:flex;\n",
              "      flex-wrap:wrap;\n",
              "      gap: 12px;\n",
              "    }\n",
              "\n",
              "    .colab-df-convert {\n",
              "      background-color: #E8F0FE;\n",
              "      border: none;\n",
              "      border-radius: 50%;\n",
              "      cursor: pointer;\n",
              "      display: none;\n",
              "      fill: #1967D2;\n",
              "      height: 32px;\n",
              "      padding: 0 0 0 0;\n",
              "      width: 32px;\n",
              "    }\n",
              "\n",
              "    .colab-df-convert:hover {\n",
              "      background-color: #E2EBFA;\n",
              "      box-shadow: 0px 1px 2px rgba(60, 64, 67, 0.3), 0px 1px 3px 1px rgba(60, 64, 67, 0.15);\n",
              "      fill: #174EA6;\n",
              "    }\n",
              "\n",
              "    [theme=dark] .colab-df-convert {\n",
              "      background-color: #3B4455;\n",
              "      fill: #D2E3FC;\n",
              "    }\n",
              "\n",
              "    [theme=dark] .colab-df-convert:hover {\n",
              "      background-color: #434B5C;\n",
              "      box-shadow: 0px 1px 3px 1px rgba(0, 0, 0, 0.15);\n",
              "      filter: drop-shadow(0px 1px 2px rgba(0, 0, 0, 0.3));\n",
              "      fill: #FFFFFF;\n",
              "    }\n",
              "  </style>\n",
              "\n",
              "      <script>\n",
              "        const buttonEl =\n",
              "          document.querySelector('#df-537164c2-d649-480b-96d0-68628b958090 button.colab-df-convert');\n",
              "        buttonEl.style.display =\n",
              "          google.colab.kernel.accessAllowed ? 'block' : 'none';\n",
              "\n",
              "        async function convertToInteractive(key) {\n",
              "          const element = document.querySelector('#df-537164c2-d649-480b-96d0-68628b958090');\n",
              "          const dataTable =\n",
              "            await google.colab.kernel.invokeFunction('convertToInteractive',\n",
              "                                                     [key], {});\n",
              "          if (!dataTable) return;\n",
              "\n",
              "          const docLinkHtml = 'Like what you see? Visit the ' +\n",
              "            '<a target=\"_blank\" href=https://colab.research.google.com/notebooks/data_table.ipynb>data table notebook</a>'\n",
              "            + ' to learn more about interactive tables.';\n",
              "          element.innerHTML = '';\n",
              "          dataTable['output_type'] = 'display_data';\n",
              "          await google.colab.output.renderOutput(dataTable, element);\n",
              "          const docLink = document.createElement('div');\n",
              "          docLink.innerHTML = docLinkHtml;\n",
              "          element.appendChild(docLink);\n",
              "        }\n",
              "      </script>\n",
              "    </div>\n",
              "  </div>\n",
              "  "
            ]
          },
          "metadata": {},
          "execution_count": 8
        }
      ]
    },
    {
      "cell_type": "code",
      "source": [
        "df_selected['status'].value_counts()"
      ],
      "metadata": {
        "colab": {
          "base_uri": "https://localhost:8080/"
        },
        "id": "xshUuHERSHjD",
        "outputId": "3feac7cb-0489-4801-81a5-7fcf8b7bebe5"
      },
      "execution_count": 9,
      "outputs": [
        {
          "output_type": "execute_result",
          "data": {
            "text/plain": [
              "LOST           43244\n",
              "WON             3073\n",
              "OPPORTUNITY      254\n",
              "CONTACTED         28\n",
              "PROCESSING         8\n",
              "IMPORTANT          1\n",
              "Name: status, dtype: int64"
            ]
          },
          "metadata": {},
          "execution_count": 9
        }
      ]
    },
    {
      "cell_type": "code",
      "source": [
        "df_selected.isnull().sum()/len(df_selected) * 100"
      ],
      "metadata": {
        "colab": {
          "base_uri": "https://localhost:8080/"
        },
        "id": "CLtK6-gYSUiq",
        "outputId": "7d4e76d8-832b-48c5-d960-d5de9fbae9fe"
      },
      "execution_count": 10,
      "outputs": [
        {
          "output_type": "execute_result",
          "data": {
            "text/plain": [
              "status          0.000000\n",
              "lost_reason     7.217645\n",
              "budget          7.938551\n",
              "lease           5.022743\n",
              "room_type      50.521370\n",
              "dtype: float64"
            ]
          },
          "metadata": {},
          "execution_count": 10
        }
      ]
    },
    {
      "cell_type": "code",
      "source": [
        "df_selected['room_type'].value_counts()"
      ],
      "metadata": {
        "colab": {
          "base_uri": "https://localhost:8080/"
        },
        "id": "zU0WqoArSd4v",
        "outputId": "1323303b-7185-443b-fcec-b09a12195206"
      },
      "execution_count": 11,
      "outputs": [
        {
          "output_type": "execute_result",
          "data": {
            "text/plain": [
              "Ensuite         12477\n",
              "Studio           6383\n",
              "Entire Place     4198\n",
              "Non-Ensuite         2\n",
              "Twin-Studio         1\n",
              "Name: room_type, dtype: int64"
            ]
          },
          "metadata": {},
          "execution_count": 11
        }
      ]
    },
    {
      "cell_type": "code",
      "source": [
        "df_selected['room_type'].mode()[0]"
      ],
      "metadata": {
        "colab": {
          "base_uri": "https://localhost:8080/",
          "height": 35
        },
        "id": "0XsIDjKmTRd6",
        "outputId": "570fe94a-eacb-4400-d6bb-ce03bf2e7c75"
      },
      "execution_count": 12,
      "outputs": [
        {
          "output_type": "execute_result",
          "data": {
            "text/plain": [
              "'Ensuite'"
            ],
            "application/vnd.google.colaboratory.intrinsic+json": {
              "type": "string"
            }
          },
          "metadata": {},
          "execution_count": 12
        }
      ]
    },
    {
      "cell_type": "code",
      "source": [
        "df_selected['room_type'].fillna(\"not_define\",inplace=True)\n",
        "df_selected['lost_reason'].fillna(\"not_define\",inplace=True)\n",
        "df_selected['lease'].fillna(\"not_define\",inplace=True)\n"
      ],
      "metadata": {
        "id": "NzuMhZM8Ta4N"
      },
      "execution_count": 13,
      "outputs": []
    },
    {
      "cell_type": "code",
      "source": [
        "df_selected['room_type'].value_counts()"
      ],
      "metadata": {
        "colab": {
          "base_uri": "https://localhost:8080/"
        },
        "id": "LNcaKsQSVst6",
        "outputId": "f4974d90-27ad-4acf-ce6c-5ba8152ca778"
      },
      "execution_count": 14,
      "outputs": [
        {
          "output_type": "execute_result",
          "data": {
            "text/plain": [
              "not_define      23547\n",
              "Ensuite         12477\n",
              "Studio           6383\n",
              "Entire Place     4198\n",
              "Non-Ensuite         2\n",
              "Twin-Studio         1\n",
              "Name: room_type, dtype: int64"
            ]
          },
          "metadata": {},
          "execution_count": 14
        }
      ]
    },
    {
      "cell_type": "code",
      "source": [
        "df_selected.isnull().sum()/len(df_selected) * 100"
      ],
      "metadata": {
        "colab": {
          "base_uri": "https://localhost:8080/"
        },
        "id": "5lFESPscVwb1",
        "outputId": "f22621f7-31bd-4021-f91c-83140b2bfa1f"
      },
      "execution_count": 15,
      "outputs": [
        {
          "output_type": "execute_result",
          "data": {
            "text/plain": [
              "status         0.000000\n",
              "lost_reason    0.000000\n",
              "budget         7.938551\n",
              "lease          0.000000\n",
              "room_type      0.000000\n",
              "dtype: float64"
            ]
          },
          "metadata": {},
          "execution_count": 15
        }
      ]
    },
    {
      "cell_type": "code",
      "source": [
        "df_selected['status'].value_counts()"
      ],
      "metadata": {
        "colab": {
          "base_uri": "https://localhost:8080/"
        },
        "id": "bNTtWz6unRuH",
        "outputId": "7a453f87-f4c7-433e-aa19-576b8ab1d50c"
      },
      "execution_count": 16,
      "outputs": [
        {
          "output_type": "execute_result",
          "data": {
            "text/plain": [
              "LOST           43244\n",
              "WON             3073\n",
              "OPPORTUNITY      254\n",
              "CONTACTED         28\n",
              "PROCESSING         8\n",
              "IMPORTANT          1\n",
              "Name: status, dtype: int64"
            ]
          },
          "metadata": {},
          "execution_count": 16
        }
      ]
    },
    {
      "cell_type": "code",
      "source": [
        "df_selected.dropna(inplace=True)"
      ],
      "metadata": {
        "id": "JISXM45UV8Px"
      },
      "execution_count": 17,
      "outputs": []
    },
    {
      "cell_type": "code",
      "source": [
        "df_selected.isnull().sum()/len(df_selected) * 100"
      ],
      "metadata": {
        "colab": {
          "base_uri": "https://localhost:8080/"
        },
        "id": "ZSzUvq8rWoJN",
        "outputId": "7c310c72-cf57-4f6e-8d16-3f7801093ceb"
      },
      "execution_count": 18,
      "outputs": [
        {
          "output_type": "execute_result",
          "data": {
            "text/plain": [
              "status         0.0\n",
              "lost_reason    0.0\n",
              "budget         0.0\n",
              "lease          0.0\n",
              "room_type      0.0\n",
              "dtype: float64"
            ]
          },
          "metadata": {},
          "execution_count": 18
        }
      ]
    },
    {
      "cell_type": "code",
      "source": [
        "df_selected['status'].value_counts()"
      ],
      "metadata": {
        "colab": {
          "base_uri": "https://localhost:8080/"
        },
        "id": "J4sWr4Fbna7P",
        "outputId": "fd75d27c-5be1-4b7e-e51d-3abf424dc101"
      },
      "execution_count": 19,
      "outputs": [
        {
          "output_type": "execute_result",
          "data": {
            "text/plain": [
              "LOST           39629\n",
              "WON             2994\n",
              "OPPORTUNITY      248\n",
              "CONTACTED         28\n",
              "PROCESSING         8\n",
              "IMPORTANT          1\n",
              "Name: status, dtype: int64"
            ]
          },
          "metadata": {},
          "execution_count": 19
        }
      ]
    },
    {
      "cell_type": "code",
      "source": [
        "df_selected.info()"
      ],
      "metadata": {
        "colab": {
          "base_uri": "https://localhost:8080/"
        },
        "id": "FH5mEtTvWtkX",
        "outputId": "60433f22-3202-4984-83fb-beb1e4bffdf1"
      },
      "execution_count": 20,
      "outputs": [
        {
          "output_type": "stream",
          "name": "stdout",
          "text": [
            "<class 'pandas.core.frame.DataFrame'>\n",
            "Int64Index: 42908 entries, 2 to 46607\n",
            "Data columns (total 5 columns):\n",
            " #   Column       Non-Null Count  Dtype \n",
            "---  ------       --------------  ----- \n",
            " 0   status       42908 non-null  object\n",
            " 1   lost_reason  42908 non-null  object\n",
            " 2   budget       42908 non-null  object\n",
            " 3   lease        42908 non-null  object\n",
            " 4   room_type    42908 non-null  object\n",
            "dtypes: object(5)\n",
            "memory usage: 2.0+ MB\n"
          ]
        }
      ]
    },
    {
      "cell_type": "code",
      "source": [
        "df_selected['budget'].value_counts()"
      ],
      "metadata": {
        "colab": {
          "base_uri": "https://localhost:8080/"
        },
        "id": "h7hh3P7VWxdq",
        "outputId": "25db0bc4-9d8c-4c36-99a8-f7b5c9abd49d"
      },
      "execution_count": 21,
      "outputs": [
        {
          "output_type": "execute_result",
          "data": {
            "text/plain": [
              "£60 - £120 Per week     9862\n",
              "£121 - £180 Per Week    8954\n",
              "0-0                     5733\n",
              "£181 - £240 Per Week    2171\n",
              "100                     1516\n",
              "                        ... \n",
              "0-80-100$                  1\n",
              "0-235                      1\n",
              "£120-160 Per Week          1\n",
              "1400 per month             1\n",
              "0-500 PCM                  1\n",
              "Name: budget, Length: 1857, dtype: int64"
            ]
          },
          "metadata": {},
          "execution_count": 21
        }
      ]
    },
    {
      "cell_type": "code",
      "source": [
        "df_selected['min_budget']=df_selected['budget'].str[:5]"
      ],
      "metadata": {
        "id": "juKA4V8hW82s"
      },
      "execution_count": 22,
      "outputs": []
    },
    {
      "cell_type": "code",
      "source": [
        "df_selected['min_budget'].value_counts()"
      ],
      "metadata": {
        "colab": {
          "base_uri": "https://localhost:8080/"
        },
        "id": "KSOMOWrjZ78w",
        "outputId": "c20d35b2-5a2d-4c4e-becb-b3beadc971f9"
      },
      "execution_count": 23,
      "outputs": [
        {
          "output_type": "execute_result",
          "data": {
            "text/plain": [
              "£60 -    9868\n",
              "£121     8963\n",
              "0-0      5733\n",
              "£181     2172\n",
              "100      1516\n",
              "         ... \n",
              "500 e       1\n",
              "1400        1\n",
              "250 P       1\n",
              "240-2       1\n",
              "400 P       1\n",
              "Name: min_budget, Length: 1205, dtype: int64"
            ]
          },
          "metadata": {},
          "execution_count": 23
        }
      ]
    },
    {
      "cell_type": "code",
      "source": [
        "df_selected.info()"
      ],
      "metadata": {
        "colab": {
          "base_uri": "https://localhost:8080/"
        },
        "id": "MUcSlE0CazQu",
        "outputId": "3c038258-505b-4595-9924-4f6798cee7d7"
      },
      "execution_count": 24,
      "outputs": [
        {
          "output_type": "stream",
          "name": "stdout",
          "text": [
            "<class 'pandas.core.frame.DataFrame'>\n",
            "Int64Index: 42908 entries, 2 to 46607\n",
            "Data columns (total 6 columns):\n",
            " #   Column       Non-Null Count  Dtype \n",
            "---  ------       --------------  ----- \n",
            " 0   status       42908 non-null  object\n",
            " 1   lost_reason  42908 non-null  object\n",
            " 2   budget       42908 non-null  object\n",
            " 3   lease        42908 non-null  object\n",
            " 4   room_type    42908 non-null  object\n",
            " 5   min_budget   42908 non-null  object\n",
            "dtypes: object(6)\n",
            "memory usage: 2.3+ MB\n"
          ]
        }
      ]
    },
    {
      "cell_type": "code",
      "source": [
        "df_selected['budget']"
      ],
      "metadata": {
        "colab": {
          "base_uri": "https://localhost:8080/"
        },
        "id": "j9hF7tO7da47",
        "outputId": "4a2b44ca-c81b-42d5-a765-f48607e763d7"
      },
      "execution_count": 25,
      "outputs": [
        {
          "output_type": "execute_result",
          "data": {
            "text/plain": [
              "2        £121 - £180 Per Week\n",
              "3                         0-0\n",
              "5                         120\n",
              "6                         0-0\n",
              "7        £181 - £240 Per Week\n",
              "                 ...         \n",
              "46603     £60 - £120 Per week\n",
              "46604     £60 - £120 Per week\n",
              "46605    £241 - £300 Per week\n",
              "46606                    1108\n",
              "46607    £181 - £240 Per Week\n",
              "Name: budget, Length: 42908, dtype: object"
            ]
          },
          "metadata": {},
          "execution_count": 25
        }
      ]
    },
    {
      "cell_type": "code",
      "source": [
        "df_selected['max_budget']=df_selected['budget'].str[-13:]"
      ],
      "metadata": {
        "id": "KoadFxLwdmED"
      },
      "execution_count": 26,
      "outputs": []
    },
    {
      "cell_type": "code",
      "source": [
        "df_selected['status'].value_counts()"
      ],
      "metadata": {
        "colab": {
          "base_uri": "https://localhost:8080/"
        },
        "id": "EcfcL4KrmzAy",
        "outputId": "a8b25513-f759-4305-d8b7-142f9acc2fc6"
      },
      "execution_count": 27,
      "outputs": [
        {
          "output_type": "execute_result",
          "data": {
            "text/plain": [
              "LOST           39629\n",
              "WON             2994\n",
              "OPPORTUNITY      248\n",
              "CONTACTED         28\n",
              "PROCESSING         8\n",
              "IMPORTANT          1\n",
              "Name: status, dtype: int64"
            ]
          },
          "metadata": {},
          "execution_count": 27
        }
      ]
    },
    {
      "cell_type": "code",
      "source": [
        "df_selected.info()"
      ],
      "metadata": {
        "colab": {
          "base_uri": "https://localhost:8080/"
        },
        "id": "EXcWFUEVgsyQ",
        "outputId": "3a75a77f-514b-4dbb-ce47-1e95dc8ae296"
      },
      "execution_count": 28,
      "outputs": [
        {
          "output_type": "stream",
          "name": "stdout",
          "text": [
            "<class 'pandas.core.frame.DataFrame'>\n",
            "Int64Index: 42908 entries, 2 to 46607\n",
            "Data columns (total 7 columns):\n",
            " #   Column       Non-Null Count  Dtype \n",
            "---  ------       --------------  ----- \n",
            " 0   status       42908 non-null  object\n",
            " 1   lost_reason  42908 non-null  object\n",
            " 2   budget       42908 non-null  object\n",
            " 3   lease        42908 non-null  object\n",
            " 4   room_type    42908 non-null  object\n",
            " 5   min_budget   42908 non-null  object\n",
            " 6   max_budget   42908 non-null  object\n",
            "dtypes: object(7)\n",
            "memory usage: 2.6+ MB\n"
          ]
        }
      ]
    },
    {
      "cell_type": "code",
      "source": [
        "df_selected['budget'].unique()"
      ],
      "metadata": {
        "colab": {
          "base_uri": "https://localhost:8080/"
        },
        "id": "BQcBUf0fg9xA",
        "outputId": "51156483-aec7-42ad-e5a6-85b8c51d2206"
      },
      "execution_count": 29,
      "outputs": [
        {
          "output_type": "execute_result",
          "data": {
            "text/plain": [
              "array(['£121 - £180 Per Week', '0-0', '120', ..., '400 Per Week',\n",
              "       '0-115 or 120', '0-500 PCM'], dtype=object)"
            ]
          },
          "metadata": {},
          "execution_count": 29
        }
      ]
    },
    {
      "cell_type": "code",
      "source": [
        "df_selected['max_budget'].unique()"
      ],
      "metadata": {
        "colab": {
          "base_uri": "https://localhost:8080/"
        },
        "id": "MSi5yjEIhD3G",
        "outputId": "323c7805-5d1c-4dcc-cfa6-adffc6e6c6be"
      },
      "execution_count": 30,
      "outputs": [
        {
          "output_type": "execute_result",
          "data": {
            "text/plain": [
              "array(['£180 Per Week', '0-0', '120', ..., '400 Per Week', '0-115 or 120',\n",
              "       '0-500 PCM'], dtype=object)"
            ]
          },
          "metadata": {},
          "execution_count": 30
        }
      ]
    },
    {
      "cell_type": "code",
      "source": [
        "df_selected.drop(['budget'],inplace=True,axis=1)"
      ],
      "metadata": {
        "id": "Slaww-NThaRv"
      },
      "execution_count": 31,
      "outputs": []
    },
    {
      "cell_type": "code",
      "source": [
        "df_selected.info()"
      ],
      "metadata": {
        "colab": {
          "base_uri": "https://localhost:8080/"
        },
        "id": "E9wY3sjNihcJ",
        "outputId": "cb987610-bc5f-4724-afd2-98569f8e25e6"
      },
      "execution_count": 32,
      "outputs": [
        {
          "output_type": "stream",
          "name": "stdout",
          "text": [
            "<class 'pandas.core.frame.DataFrame'>\n",
            "Int64Index: 42908 entries, 2 to 46607\n",
            "Data columns (total 6 columns):\n",
            " #   Column       Non-Null Count  Dtype \n",
            "---  ------       --------------  ----- \n",
            " 0   status       42908 non-null  object\n",
            " 1   lost_reason  42908 non-null  object\n",
            " 2   lease        42908 non-null  object\n",
            " 3   room_type    42908 non-null  object\n",
            " 4   min_budget   42908 non-null  object\n",
            " 5   max_budget   42908 non-null  object\n",
            "dtypes: object(6)\n",
            "memory usage: 2.3+ MB\n"
          ]
        }
      ]
    },
    {
      "cell_type": "code",
      "source": [
        "from sklearn import preprocessing\n",
        "lebelencoder=preprocessing.LabelEncoder()"
      ],
      "metadata": {
        "id": "bSjRvNu9is2n"
      },
      "execution_count": 33,
      "outputs": []
    },
    {
      "cell_type": "code",
      "source": [
        "df_selected['status']=lebelencoder.fit_transform(df_selected['status'])\n",
        "df_selected['lost_reason']=lebelencoder.fit_transform(df_selected['lost_reason'])\n",
        "df_selected['lease']=lebelencoder.fit_transform(df_selected['lease'])\n",
        "df_selected['room_type']=lebelencoder.fit_transform(df_selected['room_type'])\n",
        "df_selected['min_budget']=lebelencoder.fit_transform(df_selected['min_budget'])\n",
        "df_selected['max_budget']=lebelencoder.fit_transform(df_selected['max_budget'])\n"
      ],
      "metadata": {
        "id": "ryQOJUA0jm9J"
      },
      "execution_count": 34,
      "outputs": []
    },
    {
      "cell_type": "code",
      "source": [
        "df_selected.info()"
      ],
      "metadata": {
        "colab": {
          "base_uri": "https://localhost:8080/"
        },
        "id": "iXsHWnFfkhZI",
        "outputId": "957880f2-f908-46dc-f3e6-c4c690798c89"
      },
      "execution_count": 35,
      "outputs": [
        {
          "output_type": "stream",
          "name": "stdout",
          "text": [
            "<class 'pandas.core.frame.DataFrame'>\n",
            "Int64Index: 42908 entries, 2 to 46607\n",
            "Data columns (total 6 columns):\n",
            " #   Column       Non-Null Count  Dtype\n",
            "---  ------       --------------  -----\n",
            " 0   status       42908 non-null  int64\n",
            " 1   lost_reason  42908 non-null  int64\n",
            " 2   lease        42908 non-null  int64\n",
            " 3   room_type    42908 non-null  int64\n",
            " 4   min_budget   42908 non-null  int64\n",
            " 5   max_budget   42908 non-null  int64\n",
            "dtypes: int64(6)\n",
            "memory usage: 2.3 MB\n"
          ]
        }
      ]
    },
    {
      "cell_type": "code",
      "source": [
        "Corr = df_selected.corr()\n",
        "plt.figure(figsize=(10,8))\n",
        "sns.heatmap(Corr, annot=True)\n",
        "plt.show()"
      ],
      "metadata": {
        "colab": {
          "base_uri": "https://localhost:8080/",
          "height": 682
        },
        "id": "-N_7YZHAkmrl",
        "outputId": "46d79772-3d30-4f09-b3a9-4cd8e2513e04"
      },
      "execution_count": 36,
      "outputs": [
        {
          "output_type": "display_data",
          "data": {
            "text/plain": [
              "<Figure size 1000x800 with 2 Axes>"
            ],
            "image/png": "[encoded data removed]"
          },
          "metadata": {}
        }
      ]
    },
    {
      "cell_type": "code",
      "source": [
        "sns.distplot(df_selected)"
      ],
      "metadata": {
        "colab": {
          "base_uri": "https://localhost:8080/",
          "height": 449
        },
        "id": "g_yLAXx4k9xc",
        "outputId": "f60772e4-39fc-4422-985e-670b226f80cc"
      },
      "execution_count": 37,
      "outputs": [
        {
          "output_type": "execute_result",
          "data": {
            "text/plain": [
              "<Axes: ylabel='Density'>"
            ]
          },
          "metadata": {},
          "execution_count": 37
        },
        {
          "output_type": "display_data",
          "data": {
            "text/plain": [
              "<Figure size 640x480 with 1 Axes>"
            ],
            "image/png": "[encoded data removed]"
          },
          "metadata": {}
        }
      ]
    },
    {
      "cell_type": "code",
      "source": [
        "sns.distplot(df_selected['status'])"
      ],
      "metadata": {
        "colab": {
          "base_uri": "https://localhost:8080/",
          "height": 466
        },
        "id": "lUPe5tNKlMrM",
        "outputId": "5dcaa94d-49fe-408d-f4f6-0bb361d2c85e"
      },
      "execution_count": 38,
      "outputs": [
        {
          "output_type": "execute_result",
          "data": {
            "text/plain": [
              "<Axes: xlabel='status', ylabel='Density'>"
            ]
          },
          "metadata": {},
          "execution_count": 38
        },
        {
          "output_type": "display_data",
          "data": {
            "text/plain": [
              "<Figure size 640x480 with 1 Axes>"
            ],
            "image/png": "[encoded data removed]"
          },
          "metadata": {}
        }
      ]
    },
    {
      "cell_type": "code",
      "source": [
        "df_selected['status'].value_counts()"
      ],
      "metadata": {
        "colab": {
          "base_uri": "https://localhost:8080/"
        },
        "id": "9PxYvWTblnfm",
        "outputId": "158f65e4-ea28-426f-e8ef-2fdb39dd3184"
      },
      "execution_count": 39,
      "outputs": [
        {
          "output_type": "execute_result",
          "data": {
            "text/plain": [
              "2    39629\n",
              "5     2994\n",
              "3      248\n",
              "0       28\n",
              "4        8\n",
              "1        1\n",
              "Name: status, dtype: int64"
            ]
          },
          "metadata": {},
          "execution_count": 39
        }
      ]
    },
    {
      "cell_type": "code",
      "source": [
        "sns.barplot(y=df_selected['status'],x=df['status'],hue=df['room_type'])\n",
        "plt.xticks(rotation=90)\n",
        "plt.show()"
      ],
      "metadata": {
        "colab": {
          "base_uri": "https://localhost:8080/",
          "height": 532
        },
        "id": "wmRchZcPmNqj",
        "outputId": "607cd952-e19a-41a6-c96e-503b9948f4fd"
      },
      "execution_count": 40,
      "outputs": [
        {
          "output_type": "display_data",
          "data": {
            "text/plain": [
              "<Figure size 640x480 with 1 Axes>"
            ],
            "image/png": "[encoded data removed]"
          },
          "metadata": {}
        }
      ]
    },
    {
      "cell_type": "code",
      "source": [
        "x=df_selected.drop(['status'],axis=1)\n",
        "y=df_selected.status"
      ],
      "metadata": {
        "id": "mpUfVzBzpbjY"
      },
      "execution_count": 41,
      "outputs": []
    },
    {
      "cell_type": "code",
      "source": [
        "from sklearn.model_selection import train_test_split"
      ],
      "metadata": {
        "id": "6ZvALvzSrgpV"
      },
      "execution_count": 42,
      "outputs": []
    },
    {
      "cell_type": "code",
      "source": [
        "X_train, X_test, y_train, y_test = train_test_split(x,y,test_size = 0.20,random_state = 42)"
      ],
      "metadata": {
        "id": "-yNdS1-Prl34"
      },
      "execution_count": 43,
      "outputs": []
    },
    {
      "cell_type": "code",
      "source": [
        "from sklearn.ensemble import AdaBoostClassifier"
      ],
      "metadata": {
        "id": "JNtDGnvyrn8-"
      },
      "execution_count": 44,
      "outputs": []
    },
    {
      "cell_type": "code",
      "source": [
        "abc = AdaBoostClassifier(n_estimators=100, learning_rate=0.30, random_state=0)"
      ],
      "metadata": {
        "id": "U6ly79dfrqZ7"
      },
      "execution_count": 45,
      "outputs": []
    },
    {
      "cell_type": "code",
      "source": [
        "model1 = abc.fit(X_train, y_train)"
      ],
      "metadata": {
        "id": "hw9G2WfErs84"
      },
      "execution_count": 46,
      "outputs": []
    },
    {
      "cell_type": "code",
      "source": [
        "y_pred = model1.predict(X_test)"
      ],
      "metadata": {
        "id": "gY9w7zi0rvDW"
      },
      "execution_count": 47,
      "outputs": []
    },
    {
      "cell_type": "code",
      "source": [
        "from sklearn.metrics import accuracy_score"
      ],
      "metadata": {
        "id": "97wdmnc0rywT"
      },
      "execution_count": 48,
      "outputs": []
    },
    {
      "cell_type": "code",
      "source": [
        "print(\"AdaBoost Classifier Model Accuracy:\", accuracy_score(y_test, y_pred))\n"
      ],
      "metadata": {
        "colab": {
          "base_uri": "https://localhost:8080/"
        },
        "id": "56VUZk6br07v",
        "outputId": "6cb05d49-48d6-499f-82d3-ade86ff1a18f"
      },
      "execution_count": 49,
      "outputs": [
        {
          "output_type": "stream",
          "name": "stdout",
          "text": [
            "AdaBoost Classifier Model Accuracy: 0.9955721277091587\n"
          ]
        }
      ]
    },
    {
      "cell_type": "code",
      "source": [
        "from sklearn.ensemble import VotingClassifier\n",
        "from sklearn import tree\n",
        "from sklearn.tree import DecisionTreeClassifier\n",
        "from sklearn.ensemble import RandomForestClassifier\n",
        "from sklearn.linear_model import LogisticRegression\n",
        "model1 = LogisticRegression(random_state=0)\n",
        "model2 = tree.DecisionTreeClassifier(random_state=0)\n",
        "model3=RandomForestClassifier(random_state=0)\n",
        "model = VotingClassifier(estimators=[('lr', model1), ('dt', model2),('rf',model3)], voting='hard')\n",
        "model.fit(X_train,y_train)\n",
        "model.score(X_test,y_test)"
      ],
      "metadata": {
        "colab": {
          "base_uri": "https://localhost:8080/"
        },
        "id": "kSCxOsJTr2-c",
        "outputId": "b1ca4ef3-43e7-44ee-e37d-45c4ecbc687b"
      },
      "execution_count": 50,
      "outputs": [
        {
          "output_type": "execute_result",
          "data": {
            "text/plain": [
              "0.9938242833838267"
            ]
          },
          "metadata": {},
          "execution_count": 50
        }
      ]
    },
    {
      "cell_type": "code",
      "source": [
        "model = VotingClassifier(estimators=[('lr', model1), ('dt', model2),('rf',model3)], voting='soft')\n",
        "model.fit(X_train,y_train)\n",
        "model.score(X_test,y_test)"
      ],
      "metadata": {
        "colab": {
          "base_uri": "https://localhost:8080/"
        },
        "id": "v9I2aoC5r_kx",
        "outputId": "f33dc931-1221-4913-de80-119ee2a5990d"
      },
      "execution_count": 51,
      "outputs": [
        {
          "output_type": "execute_result",
          "data": {
            "text/plain": [
              "0.9948729899790258"
            ]
          },
          "metadata": {},
          "execution_count": 51
        }
      ]
    },
    {
      "cell_type": "code",
      "source": [
        "from sklearn.metrics import classification_report, confusion_matrix\n",
        "\n",
        "cf_ = classification_report(y_test, y_pred)\n",
        "print(cf_)\n"
      ],
      "metadata": {
        "colab": {
          "base_uri": "https://localhost:8080/"
        },
        "id": "_Za016DSsFp6",
        "outputId": "1baa537a-ae77-4a5c-8896-27aea21b5928"
      },
      "execution_count": 52,
      "outputs": [
        {
          "output_type": "stream",
          "name": "stdout",
          "text": [
            "              precision    recall  f1-score   support\n",
            "\n",
            "           0       0.00      0.00      0.00         2\n",
            "           2       1.00      1.00      1.00      7939\n",
            "           3       0.00      0.00      0.00        36\n",
            "           5       0.94      1.00      0.97       605\n",
            "\n",
            "    accuracy                           1.00      8582\n",
            "   macro avg       0.49      0.50      0.49      8582\n",
            "weighted avg       0.99      1.00      0.99      8582\n",
            "\n"
          ]
        }
      ]
    },
    {
      "cell_type": "code",
      "source": [
        "confusion_matrix(y_test,y_pred)"
      ],
      "metadata": {
        "colab": {
          "base_uri": "https://localhost:8080/"
        },
        "id": "22yKIOqSt8S_",
        "outputId": "16c76af5-12d7-42fc-aff3-5029b57a8815"
      },
      "execution_count": 53,
      "outputs": [
        {
          "output_type": "execute_result",
          "data": {
            "text/plain": [
              "array([[   0,    0,    0,    2],\n",
              "       [   0, 7939,    0,    0],\n",
              "       [   0,    0,    0,   36],\n",
              "       [   0,    0,    0,  605]])"
            ]
          },
          "metadata": {},
          "execution_count": 53
        }
      ]
    },
    {
      "cell_type": "code",
      "source": [
        "accuracy_score(y_test,y_pred)"
      ],
      "metadata": {
        "colab": {
          "base_uri": "https://localhost:8080/"
        },
        "id": "N7j-EnlavCeg",
        "outputId": "7ae7f00c-76ec-478f-cebf-9ea7b0097942"
      },
      "execution_count": 54,
      "outputs": [
        {
          "output_type": "execute_result",
          "data": {
            "text/plain": [
              "0.9955721277091587"
            ]
          },
          "metadata": {},
          "execution_count": 54
        }
      ]
    },
    {
      "cell_type": "code",
      "source": [
        "'''LOST           39629\n",
        "WON             2994\n",
        "OPPORTUNITY      248\n",
        "CONTACTED         28\n",
        "PROCESSING         8\n",
        "IMPORTANT          1'''"
      ],
      "metadata": {
        "id": "jNJi5IxY0p_S"
      },
      "execution_count": null,
      "outputs": []
    },
    {
      "cell_type": "code",
      "source": [
        "\n",
        "# Define class names and true labels\n",
        "class_names = ['LOST', 'WON', 'OPPRTUNITY', 'CONTACTED']\n",
        "\n",
        "# Compute confusion matrix\n",
        "cm = confusion_matrix(y_test, y_pred)\n",
        "\n",
        "# Plot confusion matrix with seaborn\n",
        "plt.figure(figsize=(8, 6))\n",
        "sns.heatmap(cm, annot=True, cmap='viridis', xticklabels=class_names, yticklabels=class_names)\n",
        "\n",
        "# Add axis labels and title\n",
        "plt.xlabel('Predicted Labels')\n",
        "plt.ylabel('True Labels')\n",
        "plt.title('Confusion Matrix')\n",
        "\n",
        "# Show plot\n",
        "plt.show()\n"
      ],
      "metadata": {
        "colab": {
          "base_uri": "https://localhost:8080/",
          "height": 564
        },
        "id": "jPlv_wHyyho2",
        "outputId": "3fc043dd-0ba8-449d-ab70-4ef8a122bdb7"
      },
      "execution_count": 76,
      "outputs": [
        {
          "output_type": "display_data",
          "data": {
            "text/plain": [
              "<Figure size 800x600 with 2 Axes>"
            ],
            "image/png": "[encoded data removed]"
          },
          "metadata": {}
        }
      ]
    },
    {
      "cell_type": "code",
      "source": [],
      "metadata": {
        "id": "pMZ8vwrAzsYb"
      },
      "execution_count": null,
      "outputs": []
    }
  ]
}